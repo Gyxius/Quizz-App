{
 "cells": [
  {
   "cell_type": "code",
   "execution_count": 24,
   "metadata": {},
   "outputs": [],
   "source": [
    "import pandas as pd\n",
    "import numpy as np\n",
    "from tkinter import *\n",
    "from PIL import ImageTk, Image\n",
    "import tkinter.font as font\n"
   ]
  },
  {
   "cell_type": "code",
   "execution_count": 25,
   "metadata": {},
   "outputs": [
    {
     "name": "stdout",
     "output_type": "stream",
     "text": [
      "          topic                            questions        answers\n",
      "0      personal                     how old is Mitsu             30\n",
      "1      personal                    where was he born  soavinandrina\n",
      "2  professional                   where does he work        seedtag\n",
      "3  professional                 what is his position   data analyst\n",
      "4   association  what is the name of his association      citexpand\n"
     ]
    }
   ],
   "source": [
    "df = pd.read_csv('../data/data.csv')\n",
    "print(df.head(5))\n",
    "df2 =  pd.read_csv('../data/data.csv')\n"
   ]
  },
  {
   "cell_type": "code",
   "execution_count": null,
   "metadata": {},
   "outputs": [],
   "source": []
  },
  {
   "cell_type": "code",
   "execution_count": 26,
   "metadata": {},
   "outputs": [],
   "source": [
    "i = 2\n",
    "df = df[df['topic'] == 'professional'].reset_index()\n",
    "df.head()\n",
    "df = df.drop(\"index\", axis = 1)"
   ]
  },
  {
   "cell_type": "code",
   "execution_count": 27,
   "metadata": {},
   "outputs": [],
   "source": [
    "df[\"user_answer\"] = \"seedtag\""
   ]
  },
  {
   "cell_type": "code",
   "execution_count": 28,
   "metadata": {},
   "outputs": [
    {
     "data": {
      "text/html": [
       "<div>\n",
       "<style scoped>\n",
       "    .dataframe tbody tr th:only-of-type {\n",
       "        vertical-align: middle;\n",
       "    }\n",
       "\n",
       "    .dataframe tbody tr th {\n",
       "        vertical-align: top;\n",
       "    }\n",
       "\n",
       "    .dataframe thead th {\n",
       "        text-align: right;\n",
       "    }\n",
       "</style>\n",
       "<table border=\"1\" class=\"dataframe\">\n",
       "  <thead>\n",
       "    <tr style=\"text-align: right;\">\n",
       "      <th></th>\n",
       "      <th>topic</th>\n",
       "      <th>questions</th>\n",
       "      <th>answers</th>\n",
       "      <th>user_answer</th>\n",
       "    </tr>\n",
       "  </thead>\n",
       "  <tbody>\n",
       "    <tr>\n",
       "      <th>0</th>\n",
       "      <td>professional</td>\n",
       "      <td>where does he work</td>\n",
       "      <td>seedtag</td>\n",
       "      <td>seedtag</td>\n",
       "    </tr>\n",
       "    <tr>\n",
       "      <th>1</th>\n",
       "      <td>professional</td>\n",
       "      <td>what is his position</td>\n",
       "      <td>data analyst</td>\n",
       "      <td>seedtag</td>\n",
       "    </tr>\n",
       "  </tbody>\n",
       "</table>\n",
       "</div>"
      ],
      "text/plain": [
       "          topic             questions       answers user_answer\n",
       "0  professional    where does he work       seedtag     seedtag\n",
       "1  professional  what is his position  data analyst     seedtag"
      ]
     },
     "execution_count": 28,
     "metadata": {},
     "output_type": "execute_result"
    }
   ],
   "source": [
    "df"
   ]
  },
  {
   "cell_type": "code",
   "execution_count": 34,
   "metadata": {},
   "outputs": [
    {
     "data": {
      "text/plain": [
       "50.0"
      ]
     },
     "execution_count": 34,
     "metadata": {},
     "output_type": "execute_result"
    }
   ],
   "source": [
    "(df.iloc[:,2] == df.iloc[:,3]).sum() / len(df.iloc[:,2])*100"
   ]
  },
  {
   "cell_type": "code",
   "execution_count": 30,
   "metadata": {},
   "outputs": [
    {
     "data": {
      "text/plain": [
       "0    seedtag\n",
       "1    seedtag\n",
       "Name: user_answer, dtype: object"
      ]
     },
     "execution_count": 30,
     "metadata": {},
     "output_type": "execute_result"
    }
   ],
   "source": []
  },
  {
   "cell_type": "code",
   "execution_count": 31,
   "metadata": {},
   "outputs": [],
   "source": [
    "x = iter([i for i in range(len(df))])"
   ]
  },
  {
   "cell_type": "code",
   "execution_count": 31,
   "metadata": {},
   "outputs": [],
   "source": [
    "i = next(x)"
   ]
  },
  {
   "cell_type": "code",
   "execution_count": 1,
   "metadata": {},
   "outputs": [],
   "source": [
    "import pandas as pd\n",
    "import numpy as np\n",
    "from tkinter import *\n",
    "from PIL import ImageTk, Image\n",
    "import tkinter.font as font\n",
    "\n",
    "class QuizzApp(Tk):\n",
    "    def __init__(self, width = 320, height = 568):\n",
    "        Tk.__init__(self)\n",
    "        self.data = pd.read_csv('data/data.csv')\n",
    "        self.data['user_answer'] = \"test\"\n",
    "        self.width = width\n",
    "        self.height = height\n",
    "        self.geometry(f\"{width}x{height}\")\n",
    "        self.purple = \"#BC5DDE\"\n",
    "        self.title(\"Quizz Mitsu\")\n",
    "        self.img= ImageTk.PhotoImage(Image.open(\"resources/star.png\"))\n",
    "        self.question_index = iter([i for i in range(len(self.data))])\n",
    "        self.start()\n",
    "\n",
    "    def start(self):\n",
    "        Pages(self).openpage()\n",
    "\n",
    "class Pages():\n",
    "    def __init__(self, root):\n",
    "        self.root = root\n",
    "\n",
    "    def openpage(self):\n",
    "        frame = Frame(self.root, width=self.root.width, height=self.root.height, bg=self.root.purple)\n",
    "        frame.place(x = 0, y = 0)\n",
    "        Label(frame, text= \".Quizz\", font= ('broadway 68 bold'), fg =\"white\", bg= self.root.purple).place( x=50, y=56)\n",
    "        Label(frame, text= \"Mitsu\", font= ('broadway 40 bold'), fg =\"white\", bg= self.root.purple).place( x=110, y=126)\n",
    "        Button(frame, text=\"Start\", font=('broadway 40 bold'), bg = \"white\", fg = self.root.purple ,bd=0,  highlightthickness=0, command =  self.homepage).place(x=110, y=342)\n",
    "\n",
    "    def homepage(self):\n",
    "        frame = Frame(self.root, width=self.root.width, height=self.root.height, bg=\"white\")\n",
    "        frame.place(x = 0, y = 0)\n",
    "        canvas = Canvas(frame, width=290, height=157, bg=self.root.purple, highlightthickness=0)\n",
    "        canvas.place(x = 14,y = 15)\n",
    "        canvas.create_image(0, 0,anchor=NW,image=self.root.img)\n",
    "        Label(frame, text= \"Topic\", font= ('broadway 40 bold'), fg =self.root.purple, bg= \"white\").place( x=26, y=188)\n",
    "        Button(frame, text=\"Confirm\", font=('broadway 40 bold'), bg = \"white\", fg = self.root.purple ,bd=0,  highlightthickness=0, command= self.quizz).place(x=75, y=442)\n",
    "        Button(frame, text=\"Perso\", width= 10, height = 5, font=('broadway 10 bold'), bg = \"white\", fg = \"black\" ,bd=0,  highlightthickness=0, command=self.do_nothing).place(x=6, y=250)\n",
    "        Button(frame, text=\"Pro\", width= 10, height = 5, font=('broadway 10 bold'), bg = \"white\", fg = \"black\" ,bd=0,  highlightthickness=0, command=self.do_nothing).place(x=110, y=250)\n",
    "        Button(frame, text=\"Asso\", width= 10, height = 5, font=('broadway 10 bold'), bg = \"white\", fg = \"black\" ,bd=0,  highlightthickness=0, command=self.do_nothing).place(x=215, y=250)\n",
    "        Label(frame, text= \"Choose wisely your topic\", font= ('broadway 20 bold'), fg =\"black\", bg= \"white\").place( x=26, y=320)\n",
    "    \n",
    "    def do_nothing():\n",
    "        pass\n",
    "\n",
    "    def quizz(self):\n",
    "        try:\n",
    "            i = next(self.root.question_index)\n",
    "            self.question_page(i)\n",
    "        except StopIteration:\n",
    "            self.end_page()\n",
    "        \n",
    "    def end_page(self):\n",
    "        frame = Frame(self.root, width=self.root.width, height=self.root.height, bg=self.root.purple)\n",
    "        frame.place(x = 0, y = 0)\n",
    "        Label(frame, text= \"END\", font=('broadway 40 bold'), fg=\"white\", bg=self.root.purple, wraplength=self.root.width - 20).place(x=30, y=56)\n",
    "\n",
    "    def question_page(self, i):\n",
    "        frame = Frame(self.root, width=self.root.width, height=self.root.height, bg=self.root.purple)\n",
    "        frame.place(x = 0, y = 0)\n",
    "        Label(frame, text=self.root.data.iloc[i, 1], font=('broadway 40 bold'), fg=\"white\", bg=self.root.purple, wraplength=self.root.width - 20).place(x=30, y=56)\n",
    "        entry = Entry(frame, fg = \"black\", bg = \"white\", font=('broadway 17 bold'), width = 20)\n",
    "        entry.place(x=30, y=300)\n",
    "        user_answer = entry.get()\n",
    "        Button(frame, text=\"Submit\", font=('broadway 20 bold'), bg=\"white\", fg=self.root.purple, bd=0, highlightthickness=0, command= self.quizz).place(x=110, y=342)\n",
    "        self.root.data.loc[i,['answer_question']] = str(user_answer)\n",
    "\n",
    "\n",
    "if __name__ == '__main__':\n",
    "    app = QuizzApp()\n",
    "    app.mainloop()\n"
   ]
  },
  {
   "cell_type": "code",
   "execution_count": 7,
   "metadata": {},
   "outputs": [],
   "source": [
    "data = pd.read_csv('data/data.csv')\n",
    "data['user_answer'] = \"\""
   ]
  },
  {
   "cell_type": "code",
   "execution_count": 8,
   "metadata": {},
   "outputs": [],
   "source": [
    "data.loc[0,['user_answer']] = \"f\""
   ]
  },
  {
   "cell_type": "code",
   "execution_count": 9,
   "metadata": {},
   "outputs": [
    {
     "data": {
      "text/html": [
       "<div>\n",
       "<style scoped>\n",
       "    .dataframe tbody tr th:only-of-type {\n",
       "        vertical-align: middle;\n",
       "    }\n",
       "\n",
       "    .dataframe tbody tr th {\n",
       "        vertical-align: top;\n",
       "    }\n",
       "\n",
       "    .dataframe thead th {\n",
       "        text-align: right;\n",
       "    }\n",
       "</style>\n",
       "<table border=\"1\" class=\"dataframe\">\n",
       "  <thead>\n",
       "    <tr style=\"text-align: right;\">\n",
       "      <th></th>\n",
       "      <th>topic</th>\n",
       "      <th>questions</th>\n",
       "      <th>answers</th>\n",
       "      <th>user_answer</th>\n",
       "    </tr>\n",
       "  </thead>\n",
       "  <tbody>\n",
       "    <tr>\n",
       "      <th>0</th>\n",
       "      <td>personal</td>\n",
       "      <td>how old is Mitsu</td>\n",
       "      <td>30</td>\n",
       "      <td>f</td>\n",
       "    </tr>\n",
       "    <tr>\n",
       "      <th>1</th>\n",
       "      <td>personal</td>\n",
       "      <td>where was he born</td>\n",
       "      <td>soavinandrina</td>\n",
       "      <td></td>\n",
       "    </tr>\n",
       "  </tbody>\n",
       "</table>\n",
       "</div>"
      ],
      "text/plain": [
       "      topic           questions         answers user_answer\n",
       "0  personal    how old is Mitsu              30           f\n",
       "1  personal   where was he born   soavinandrina            "
      ]
     },
     "execution_count": 9,
     "metadata": {},
     "output_type": "execute_result"
    }
   ],
   "source": [
    "data"
   ]
  },
  {
   "cell_type": "code",
   "execution_count": null,
   "metadata": {},
   "outputs": [],
   "source": []
  }
 ],
 "metadata": {
  "kernelspec": {
   "display_name": "Python 3",
   "language": "python",
   "name": "python3"
  },
  "language_info": {
   "codemirror_mode": {
    "name": "ipython",
    "version": 3
   },
   "file_extension": ".py",
   "mimetype": "text/x-python",
   "name": "python",
   "nbconvert_exporter": "python",
   "pygments_lexer": "ipython3",
   "version": "3.9.6"
  },
  "orig_nbformat": 4
 },
 "nbformat": 4,
 "nbformat_minor": 2
}
